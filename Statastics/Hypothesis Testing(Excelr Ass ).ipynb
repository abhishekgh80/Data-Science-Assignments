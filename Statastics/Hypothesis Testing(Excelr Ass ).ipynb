{
 "cells": [
  {
   "cell_type": "code",
   "execution_count": 1,
   "id": "8e9ba04a-5f75-49b6-b0cb-3129213d2b48",
   "metadata": {},
   "outputs": [],
   "source": [
    "import numpy as np\n",
    "import pandas as pd\n",
    "import scipy.stats as stats"
   ]
  },
  {
   "cell_type": "markdown",
   "id": "80ff21bb-7b97-4b27-bcef-2156d64d1dd5",
   "metadata": {},
   "source": [
    "## Chi Square Test"
   ]
  },
  {
   "cell_type": "markdown",
   "id": "60cece24-a832-4bc2-a80f-a0340f90f502",
   "metadata": {},
   "source": [
    "Mizzare Corporation has collected data on customer satisfaction levels for two types of smart home devices: Smart Thermostats and Smart Lights. They want to determine if there's a significant association between the type of device purchased and the customer's satisfaction level."
   ]
  },
  {
   "cell_type": "code",
   "execution_count": null,
   "id": "d02ddccc-45c2-4df6-b028-85b47238583c",
   "metadata": {},
   "outputs": [],
   "source": [
    "Satisfaction\tSmart Thermostat\tSmart Light\t  Total\n",
    "Very Satisfied\t      50\t            70\t       120\n",
    "Satisfied\t          80\t            100\t       180\n",
    "Neutral\t              60\t            90\t       150\n",
    "Unsatisfied        \t  30\t            50\t       80\n",
    "Very Unsatisfied\t  20\t            50\t       70\n",
    "Total\t              240\t            360\t       600\n"
   ]
  },
  {
   "cell_type": "code",
   "execution_count": 6,
   "id": "3f5af187-b171-4042-aa71-cf5b2e4b8a3e",
   "metadata": {},
   "outputs": [],
   "source": [
    "## Given Data\n",
    "n=5\n",
    "df=4\n",
    "alpha=0.05\n",
    "CI=0.95"
   ]
  },
  {
   "cell_type": "markdown",
   "id": "f014539e-cb85-4c51-bc4f-e0e35037e7e1",
   "metadata": {},
   "source": [
    "1.State The Hypothesis"
   ]
  },
  {
   "cell_type": "markdown",
   "id": "1d1be1d1-6b0e-4843-8ec8-ae220b2cd795",
   "metadata": {},
   "source": [
    "H0(Null Hypothesis)=There is no significant association between the type of device purchased and the customer's satisfaction level.\n",
    "H1(Alternative Hypothesis)=There is a significant association between the type of device purchased and the customer's satisfaction level."
   ]
  },
  {
   "cell_type": "markdown",
   "id": "ab7405b8-0574-45ac-b477-625999c50c04",
   "metadata": {},
   "source": [
    "2.Calculate the Chisquare Test"
   ]
  },
  {
   "cell_type": "code",
   "execution_count": 11,
   "id": "fc8c0922-edb7-4927-b182-274776011e47",
   "metadata": {},
   "outputs": [],
   "source": [
    "data=np.array([[50,70],[80,100],[60,90],[30,50],[20,50]])"
   ]
  },
  {
   "cell_type": "code",
   "execution_count": 13,
   "id": "fae6f75f-db8a-4e57-a54e-5455b3e6ca4d",
   "metadata": {},
   "outputs": [
    {
     "data": {
      "text/plain": [
       "array([[ 50,  70],\n",
       "       [ 80, 100],\n",
       "       [ 60,  90],\n",
       "       [ 30,  50],\n",
       "       [ 20,  50]])"
      ]
     },
     "execution_count": 13,
     "metadata": {},
     "output_type": "execute_result"
    }
   ],
   "source": [
    "data"
   ]
  },
  {
   "cell_type": "code",
   "execution_count": 15,
   "id": "1ea9c1cb-5eed-49b6-b606-475873373329",
   "metadata": {},
   "outputs": [],
   "source": [
    "chisqaure_stats=stats.chi2_contingency(data)"
   ]
  },
  {
   "cell_type": "code",
   "execution_count": 17,
   "id": "265059d7-df23-4f98-996b-37b4e13d2f93",
   "metadata": {},
   "outputs": [
    {
     "data": {
      "text/plain": [
       "Chi2ContingencyResult(statistic=5.638227513227513, pvalue=0.22784371130697179, dof=4, expected_freq=array([[ 48.,  72.],\n",
       "       [ 72., 108.],\n",
       "       [ 60.,  90.],\n",
       "       [ 32.,  48.],\n",
       "       [ 28.,  42.]]))"
      ]
     },
     "execution_count": 17,
     "metadata": {},
     "output_type": "execute_result"
    }
   ],
   "source": [
    "chisqaure_stats"
   ]
  },
  {
   "cell_type": "markdown",
   "id": "cc5c4e26-2090-4266-be14-8778bc0b67b9",
   "metadata": {},
   "source": [
    "3.Calculate the Critical Value"
   ]
  },
  {
   "cell_type": "code",
   "execution_count": 20,
   "id": "d80ede6d-96cc-4640-9470-4b67cfdf34e8",
   "metadata": {},
   "outputs": [],
   "source": [
    "chi_critical=stats.chi2.ppf(0.95,4)"
   ]
  },
  {
   "cell_type": "code",
   "execution_count": 22,
   "id": "71272e42-3fbb-4fa1-b9bd-e812b2a450ac",
   "metadata": {},
   "outputs": [
    {
     "data": {
      "text/plain": [
       "9.487729036781154"
      ]
     },
     "execution_count": 22,
     "metadata": {},
     "output_type": "execute_result"
    }
   ],
   "source": [
    "chi_critical"
   ]
  },
  {
   "cell_type": "markdown",
   "id": "2021310c-7dea-4b6c-887d-15c7d7efe2ad",
   "metadata": {},
   "source": [
    "4.Conculusion"
   ]
  },
  {
   "cell_type": "markdown",
   "id": "5fdcb63d-fa23-414c-ae88-016396c425dd",
   "metadata": {},
   "source": [
    "1)if 5.638 < 9.487 is fails to reject the null hypothesis,\n",
    "2)if 5.638 > 9.487 is reject the null hypothesis.\n",
    "3)Therefore, Null Hypothesis is accepted,\n",
    "4)There is no significant association between the type of device purchased and the customer's satisfaction level."
   ]
  },
  {
   "cell_type": "markdown",
   "id": "818952f1-4fe0-4065-8401-8fd059595ae7",
   "metadata": {},
   "source": [
    "## T Test"
   ]
  },
  {
   "cell_type": "markdown",
   "id": "7dba6325-d068-469a-9a6b-f3373c294f6e",
   "metadata": {},
   "source": [
    "The theoretical weekly operating cost model: W = $1,000 + $5X\n",
    "•\tSample of 25 restaurants with a mean weekly cost of Rs. 3,050\n",
    "•\tNumber of units produced in a week (X) follows a normal distribution with a mean (μ) of 600 units and a standard deviation (σ) of 25 units\n"
   ]
  },
  {
   "cell_type": "markdown",
   "id": "da41e4e4-bf1b-4503-91d3-5658f1777ec4",
   "metadata": {},
   "source": [
    "\tˉxˉ = sample mean weekly cost (Rs. 3,050)\n",
    "•\tμ = theoretical mean weekly cost according to the cost model (W = $1,000 + $5X for X = 600 units)\n",
    "•\tσ = 5*25 units\n",
    "•\tn = sample size (25 restaurants)\n"
   ]
  },
  {
   "cell_type": "code",
   "execution_count": 35,
   "id": "2a74a9d1-0613-42d7-9175-cafa5e82f6aa",
   "metadata": {},
   "outputs": [],
   "source": [
    "import numpy as np\n",
    "import scipy.stats as stats"
   ]
  },
  {
   "cell_type": "code",
   "execution_count": 37,
   "id": "4ef48cb1-7a03-44c2-b391-3de070bfa101",
   "metadata": {},
   "outputs": [],
   "source": [
    "# Given Data\n",
    "x_bar=3050\n",
    "pop_mean=4000\n",
    "s=125\n",
    "n=25\n",
    "alpha=0.05\n",
    "CI=0.95"
   ]
  },
  {
   "cell_type": "markdown",
   "id": "a8f7eef0-dc13-4546-b121-9bba21c30977",
   "metadata": {},
   "source": [
    "1.State the Hpothesis"
   ]
  },
  {
   "cell_type": "markdown",
   "id": "69e3ea0a-39ec-4cbc-8aff-126671918fb7",
   "metadata": {},
   "source": [
    "H0(Null Hypothesis)=The observed mean weekly operating cost is lower than the expected mean weekly operating cost as predicted by the model\n",
    "H1(Alternative Hypothesis)=The observed mean weekly operating cost is greater than the expected mean weekly operating cost as predicted by the model."
   ]
  },
  {
   "cell_type": "markdown",
   "id": "cb532b37-ed80-4c9d-8b22-26c86ea0b534",
   "metadata": {},
   "source": [
    "2.Calculate the T Statastic"
   ]
  },
  {
   "cell_type": "code",
   "execution_count": 44,
   "id": "ce623c75-eb35-455f-825a-79363d6d6618",
   "metadata": {},
   "outputs": [],
   "source": [
    "t_stats=(x_bar-pop_mean)/(s/np.sqrt(n))           "
   ]
  },
  {
   "cell_type": "code",
   "execution_count": 46,
   "id": "fbd22075-d663-475c-9280-5fdf662cf6b7",
   "metadata": {},
   "outputs": [
    {
     "data": {
      "text/plain": [
       "-38.0"
      ]
     },
     "execution_count": 46,
     "metadata": {},
     "output_type": "execute_result"
    }
   ],
   "source": [
    "t_stats"
   ]
  },
  {
   "cell_type": "markdown",
   "id": "97203f5e-b77f-4d8d-bbad-c4c0ed8b5164",
   "metadata": {},
   "source": [
    "3.Calculate the Crtical Value"
   ]
  },
  {
   "cell_type": "code",
   "execution_count": 49,
   "id": "3aa9b2a4-a272-4901-99e2-20ac95959382",
   "metadata": {},
   "outputs": [],
   "source": [
    "t_critical=stats.t.ppf(0.975,24)"
   ]
  },
  {
   "cell_type": "code",
   "execution_count": 51,
   "id": "cb06b278-128f-40e3-8211-ab74a43d114b",
   "metadata": {},
   "outputs": [
    {
     "data": {
      "text/plain": [
       "2.0638985616280205"
      ]
     },
     "execution_count": 51,
     "metadata": {},
     "output_type": "execute_result"
    }
   ],
   "source": [
    "t_critical"
   ]
  },
  {
   "cell_type": "markdown",
   "id": "876f898b-32d4-4577-99a2-60fd13291906",
   "metadata": {},
   "source": [
    "4.Conculusion"
   ]
  },
  {
   "cell_type": "markdown",
   "id": "c672d3cc-63d6-47c0-9a16-807bffacefa2",
   "metadata": {},
   "source": [
    "1)if -38.0 > 2.063 is reject null hypothesis. 2)if -38.0 < 2.063 is fails to reject null hypothesis. 3)HO-Null hypothesis is rejected. 4)Therefore, H1-The observed mean weekly operating cost is greater than the expected mean weekly operating cost as predicted by the model is accepted\n",
    "\n",
    "\n"
   ]
  },
  {
   "cell_type": "code",
   "execution_count": null,
   "id": "e545dcad-4a78-40de-b43e-556eaec54376",
   "metadata": {},
   "outputs": [],
   "source": []
  }
 ],
 "metadata": {
  "kernelspec": {
   "display_name": "Python 3 (ipykernel)",
   "language": "python",
   "name": "python3"
  },
  "language_info": {
   "codemirror_mode": {
    "name": "ipython",
    "version": 3
   },
   "file_extension": ".py",
   "mimetype": "text/x-python",
   "name": "python",
   "nbconvert_exporter": "python",
   "pygments_lexer": "ipython3",
   "version": "3.12.4"
  }
 },
 "nbformat": 4,
 "nbformat_minor": 5
}
