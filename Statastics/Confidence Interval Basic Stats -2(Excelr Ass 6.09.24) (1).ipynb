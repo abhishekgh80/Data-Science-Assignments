{
 "cells": [
  {
   "cell_type": "markdown",
   "id": "50b733e7-550c-470a-9a24-adf49c1f9f48",
   "metadata": {},
   "source": [
    "A manufacturer of print-heads for personal computers is interested in estimating the mean durability of their print-heads in terms of the number of characters printed before failure. To assess this, the manufacturer conducts a study on a small sample of print-heads due to the destructive nature of the testing process."
   ]
  },
  {
   "cell_type": "markdown",
   "id": "61aa0b62-d33f-4ec4-a35d-3191d4b26de0",
   "metadata": {},
   "source": [
    "Data\n",
    "A total of 15 print-heads were randomly selected and tested until failure. The durability of each print-head (in millions of characters) was recorded as follows:\n",
    "1.13, 1.55, 1.43, 0.92, 1.25, 1.36, 1.32, 0.85, 1.07, 1.48, 1.20, 1.33, 1.18, 1.22, 1.29\n"
   ]
  },
  {
   "cell_type": "code",
   "execution_count": 3,
   "id": "f73692ec-7853-4484-b778-62bb9d7815e2",
   "metadata": {},
   "outputs": [],
   "source": [
    "list=[1.13, 1.55, 1.43, 0.92, 1.25, 1.36, 1.32, 0.85, 1.07, 1.48, 1.20, 1.33, 1.18, 1.22, 1.29]"
   ]
  },
  {
   "cell_type": "code",
   "execution_count": 4,
   "id": "0519d5bc-08d8-4abf-8f1b-b6907694d185",
   "metadata": {},
   "outputs": [
    {
     "data": {
      "text/plain": [
       "[1.13,\n",
       " 1.55,\n",
       " 1.43,\n",
       " 0.92,\n",
       " 1.25,\n",
       " 1.36,\n",
       " 1.32,\n",
       " 0.85,\n",
       " 1.07,\n",
       " 1.48,\n",
       " 1.2,\n",
       " 1.33,\n",
       " 1.18,\n",
       " 1.22,\n",
       " 1.29]"
      ]
     },
     "execution_count": 4,
     "metadata": {},
     "output_type": "execute_result"
    }
   ],
   "source": [
    "list"
   ]
  },
  {
   "cell_type": "code",
   "execution_count": 5,
   "id": "3e9efd42-b93f-4810-af1a-f5565664d95a",
   "metadata": {},
   "outputs": [],
   "source": [
    "import numpy as np\n",
    "import scipy.stats as stats"
   ]
  },
  {
   "cell_type": "code",
   "execution_count": 6,
   "id": "faaf4261-c5bc-4a91-9546-746b5c609976",
   "metadata": {},
   "outputs": [
    {
     "data": {
      "text/plain": [
       "15"
      ]
     },
     "execution_count": 6,
     "metadata": {},
     "output_type": "execute_result"
    }
   ],
   "source": [
    "len(list)"
   ]
  },
  {
   "cell_type": "markdown",
   "id": "f3885ddf-ddf6-480f-9e8d-308edab52d5f",
   "metadata": {},
   "source": [
    "A. Build 99% Confidence Interval Using Sample Standard Deviation"
   ]
  },
  {
   "cell_type": "markdown",
   "id": "12979118-8458-40e8-89f6-a0c8c6cb2ba7",
   "metadata": {},
   "source": [
    "Assuming the sample is representative of the population, construct a 99% confidence interval for the mean number of characters printed before the print-head fails using the sample standard deviation. Explain the steps you take and the rationale behind using the t-distribution for this task."
   ]
  },
  {
   "cell_type": "markdown",
   "id": "9be1a589-cede-423e-8e1f-d777b4469fcc",
   "metadata": {},
   "source": [
    "Standard Mean"
   ]
  },
  {
   "cell_type": "code",
   "execution_count": 10,
   "id": "edadea13-12fc-452a-9cc8-5ed50edd6dbe",
   "metadata": {},
   "outputs": [
    {
     "data": {
      "text/plain": [
       "1.2386666666666666"
      ]
     },
     "execution_count": 10,
     "metadata": {},
     "output_type": "execute_result"
    }
   ],
   "source": [
    "x_bar=np.mean(list)\n",
    "x_bar"
   ]
  },
  {
   "cell_type": "code",
   "execution_count": 11,
   "id": "4855d46b-c9ce-4b63-b920-3621bf0c3e4b",
   "metadata": {},
   "outputs": [],
   "source": [
    "import statistics as stats"
   ]
  },
  {
   "cell_type": "markdown",
   "id": "4351737d-a6bd-4665-86f1-aaad4b985a18",
   "metadata": {},
   "source": [
    "Standard Deviation"
   ]
  },
  {
   "cell_type": "code",
   "execution_count": 13,
   "id": "bf7fff83-2266-4ae2-8f39-360e71dccd3c",
   "metadata": {},
   "outputs": [
    {
     "data": {
      "text/plain": [
       "0.19316412956959933"
      ]
     },
     "execution_count": 13,
     "metadata": {},
     "output_type": "execute_result"
    }
   ],
   "source": [
    "std=stats.stdev(list)\n",
    "std"
   ]
  },
  {
   "cell_type": "markdown",
   "id": "8a7ce963-6f8a-4cb2-8d8c-bc0c6c187623",
   "metadata": {},
   "source": [
    "Given Data"
   ]
  },
  {
   "cell_type": "code",
   "execution_count": 15,
   "id": "01e6639f-5774-471b-9f2a-21e1cd276f6e",
   "metadata": {},
   "outputs": [],
   "source": [
    "x_bar=1.238666\n",
    "s=0.1931\n",
    "n=15\n",
    "df=14\n",
    "CI=0.99\n",
    "alpha=0.1"
   ]
  },
  {
   "cell_type": "code",
   "execution_count": 16,
   "id": "a18b63fa-cdbc-46cd-9a39-3479038d1f0d",
   "metadata": {},
   "outputs": [],
   "source": [
    "import scipy.stats as stats"
   ]
  },
  {
   "cell_type": "markdown",
   "id": "cb00e328-20ee-4f73-80d8-103cd02468db",
   "metadata": {},
   "source": [
    "Calculate Critical Value(T Test)"
   ]
  },
  {
   "cell_type": "code",
   "execution_count": 21,
   "id": "f37a881b-a310-45bd-b0e1-93c35d87e1e6",
   "metadata": {},
   "outputs": [
    {
     "data": {
      "text/plain": [
       "2.976842734370834"
      ]
     },
     "execution_count": 21,
     "metadata": {},
     "output_type": "execute_result"
    }
   ],
   "source": [
    "t_critical=stats.t.ppf(0.995,14)\n",
    "t_critical"
   ]
  },
  {
   "cell_type": "code",
   "execution_count": null,
   "id": "80b05b61-d62a-4fc9-8f8f-b3a3f156fe22",
   "metadata": {},
   "outputs": [],
   "source": [
    "t_test with CI\n",
    "x_bar+-t_critical*(s/sqrt(n)"
   ]
  },
  {
   "cell_type": "markdown",
   "id": "87796d91-a922-4301-bb0f-2c386fbe2e0b",
   "metadata": {},
   "source": [
    "Margin of Error"
   ]
  },
  {
   "cell_type": "code",
   "execution_count": null,
   "id": "c2ffad41-8939-4f8c-9992-99bbc7ef2b3c",
   "metadata": {},
   "outputs": [],
   "source": [
    "margin_of_error=t_critical*(s/np.sqrt(n))\n",
    "margin_of_error"
   ]
  },
  {
   "cell_type": "markdown",
   "id": "4ad7b246-1bdc-415f-8336-6bf8b12b7bef",
   "metadata": {},
   "source": [
    "Lower Limit"
   ]
  },
  {
   "cell_type": "code",
   "execution_count": null,
   "id": "bbe15c40-1139-4af8-b906-0fda72afeab5",
   "metadata": {},
   "outputs": [],
   "source": [
    "Lower_limit=x_bar-margin_of_error\n",
    "Lower_limit"
   ]
  },
  {
   "cell_type": "markdown",
   "id": "396c3f3b-3f49-42a7-a223-945f3fd05319",
   "metadata": {},
   "source": [
    "Upper Limit"
   ]
  },
  {
   "cell_type": "code",
   "execution_count": null,
   "id": "72fc7cbd-8df9-44ca-a11d-16ef67110e20",
   "metadata": {},
   "outputs": [],
   "source": [
    "Upper_limit=x_bar+margin_of_error\n",
    "Upper_limit"
   ]
  },
  {
   "cell_type": "markdown",
   "id": "303814df-abcc-44c3-92ce-fa9d6ab04e36",
   "metadata": {},
   "source": [
    "## Conculusion"
   ]
  },
  {
   "cell_type": "markdown",
   "id": "7e49b048-95c1-49b7-98b9-076f393bc108",
   "metadata": {},
   "source": [
    "The 99% confidence interval for the mean number of characters printed before failure using the sample standard deviation is approximately (1.387, 1.090) million characters."
   ]
  },
  {
   "cell_type": "code",
   "execution_count": null,
   "id": "e4ffee52-67fe-410f-be91-a28b1d51f9da",
   "metadata": {},
   "outputs": [],
   "source": []
  },
  {
   "cell_type": "markdown",
   "id": "092568be-cf28-49bf-9374-7de26516d732",
   "metadata": {},
   "source": [
    "B. Build 99% Confidence Interval Using Known Population Standard Deviation"
   ]
  },
  {
   "cell_type": "markdown",
   "id": "f8f6ab40-9cd7-4730-b97e-e92cb05ca74d",
   "metadata": {},
   "source": [
    "If it were known that the population standard deviation is 0.2 million characters, construct a 99% confidence interval for the mean number of characters printed before failure.\n",
    "\n"
   ]
  },
  {
   "cell_type": "markdown",
   "id": "a5f8eba6-4a9b-49e0-a5f5-9c0466d0a76b",
   "metadata": {},
   "source": [
    "Given Data"
   ]
  },
  {
   "cell_type": "code",
   "execution_count": null,
   "id": "2810e762-b60d-47e4-8103-1bd3d104c13d",
   "metadata": {},
   "outputs": [],
   "source": [
    "x_bar=1.2386\n",
    "sigma=0.2\n",
    "n=15\n",
    "df=14\n",
    "CI=0.99\n",
    "alpha=0.01"
   ]
  },
  {
   "cell_type": "markdown",
   "id": "26e0fc4a-485e-4076-8ca2-58c38c5c8005",
   "metadata": {},
   "source": [
    "Calculate Critical Value(Z Test)"
   ]
  },
  {
   "cell_type": "code",
   "execution_count": null,
   "id": "c7f1f4a2-7fed-42ed-bf82-5755e202d369",
   "metadata": {},
   "outputs": [],
   "source": [
    "z_critical=stats.norm.ppf(0.995)\n",
    "z_critical"
   ]
  },
  {
   "cell_type": "code",
   "execution_count": null,
   "id": "e7c4e29f-89d1-443b-b98b-a5b9f02fb136",
   "metadata": {},
   "outputs": [],
   "source": [
    "Z_test With CI\n",
    "x_bar+-z_crtical*(s/np.sqrt(n))"
   ]
  },
  {
   "cell_type": "markdown",
   "id": "3d51d267-4659-4668-b816-e7528b780974",
   "metadata": {},
   "source": [
    "Margin of Error"
   ]
  },
  {
   "cell_type": "code",
   "execution_count": null,
   "id": "adbfe263-91a6-4414-84d1-3c2fead812f3",
   "metadata": {},
   "outputs": [],
   "source": [
    "margin_of_error=z_critical*(s/np.sqrt(n))\n",
    "margin_of_error"
   ]
  },
  {
   "cell_type": "markdown",
   "id": "23d287d6-cedb-48f5-ae70-f1ae5cf6806d",
   "metadata": {},
   "source": [
    "Upper Limit"
   ]
  },
  {
   "cell_type": "code",
   "execution_count": null,
   "id": "aeb07663-7db5-4d6c-852c-ae8956a7ff47",
   "metadata": {},
   "outputs": [],
   "source": [
    "upper_limit=x_bar+margin_of_error\n",
    "upper_limit"
   ]
  },
  {
   "cell_type": "markdown",
   "id": "dff48e03-b77b-4537-aadc-f742eb8f6f8e",
   "metadata": {},
   "source": [
    "Lower Limit"
   ]
  },
  {
   "cell_type": "code",
   "execution_count": null,
   "id": "df3e46db-28ba-43e2-a7e1-3428cee61d2c",
   "metadata": {},
   "outputs": [],
   "source": [
    "lower_limit=x_bar-margin_of_error\n",
    "lower_limit"
   ]
  },
  {
   "cell_type": "markdown",
   "id": "6a3361fb-a546-479f-84b3-9c187df6d30f",
   "metadata": {},
   "source": [
    "## Conculusion"
   ]
  },
  {
   "cell_type": "markdown",
   "id": "6e56d62e-9726-4c51-8eff-ee3762de9c79",
   "metadata": {},
   "source": [
    "The 99% confidence interval for the mean number of characters printed before failure using the known population standard deviation is approximately (1.367, 1.110) million characters."
   ]
  },
  {
   "cell_type": "code",
   "execution_count": null,
   "id": "b976da1d-09e4-49ec-b9bb-7568f6eba1b2",
   "metadata": {},
   "outputs": [],
   "source": []
  }
 ],
 "metadata": {
  "kernelspec": {
   "display_name": "Python 3 (ipykernel)",
   "language": "python",
   "name": "python3"
  },
  "language_info": {
   "codemirror_mode": {
    "name": "ipython",
    "version": 3
   },
   "file_extension": ".py",
   "mimetype": "text/x-python",
   "name": "python",
   "nbconvert_exporter": "python",
   "pygments_lexer": "ipython3",
   "version": "3.12.4"
  }
 },
 "nbformat": 4,
 "nbformat_minor": 5
}
