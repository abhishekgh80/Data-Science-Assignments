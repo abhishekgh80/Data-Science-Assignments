{
 "cells": [
  {
   "cell_type": "markdown",
   "id": "7f3c87f1-c03a-4782-9026-b3425f9f54a2",
   "metadata": {},
   "source": [
    "## Exercise 1: Prime Numbers"
   ]
  },
  {
   "cell_type": "markdown",
   "id": "390246c6-a3d6-42d5-ae52-8c566e13ac1f",
   "metadata": {},
   "source": [
    "Write a Python program that checks whether a given number is prime or not. A prime number is a natural number greater than 1 that has no positive divisors other than 1 and itself."
   ]
  },
  {
   "cell_type": "code",
   "execution_count": 7,
   "id": "e395cfb2-6fd9-410b-a895-07e392faed9c",
   "metadata": {},
   "outputs": [
    {
     "name": "stdin",
     "output_type": "stream",
     "text": [
      "Enter a number:  23\n"
     ]
    },
    {
     "name": "stdout",
     "output_type": "stream",
     "text": [
      "23 is a prime number.\n"
     ]
    }
   ],
   "source": [
    "def is_prime(n):\n",
    "    \"\"\"Check if the number n is a prime number.\"\"\"\n",
    "    if n <= 1:\n",
    "        return False\n",
    "    for i in range(2, int(n**0.5) + 1):\n",
    "        if n % i == 0:\n",
    "            return False\n",
    "    return True\n",
    "    \n",
    "number = int(input(\"Enter a number: \"))\n",
    "if is_prime(number):\n",
    "    print(f\"{number} is a prime number.\")\n",
    "else:\n",
    "    print(f\"{number} is not a prime number.\")"
   ]
  },
  {
   "cell_type": "code",
   "execution_count": 5,
   "id": "6b9d8cde-31d0-4068-a707-f796d4df76c3",
   "metadata": {},
   "outputs": [
    {
     "name": "stdin",
     "output_type": "stream",
     "text": [
      "Enter a number:  25\n"
     ]
    },
    {
     "name": "stdout",
     "output_type": "stream",
     "text": [
      "25 is not a prime number.\n"
     ]
    }
   ],
   "source": [
    "number = int(input(\"Enter a number: \"))\n",
    "if is_prime(number):\n",
    "    print(f\"{number} is a prime number.\")\n",
    "else:\n",
    "    print(f\"{number} is not a prime number.\")"
   ]
  },
  {
   "cell_type": "code",
   "execution_count": null,
   "id": "168a29f2-6926-4e1f-9637-06aff46c6c9c",
   "metadata": {},
   "outputs": [],
   "source": []
  },
  {
   "cell_type": "markdown",
   "id": "f8ed52c0-257a-47ac-a948-3806c326f26b",
   "metadata": {},
   "source": [
    "## Exercise 2: Product of Random Numbers"
   ]
  },
  {
   "cell_type": "code",
   "execution_count": 11,
   "id": "c4954665-7869-4050-ab6c-92ae1ed8605d",
   "metadata": {},
   "outputs": [],
   "source": [
    "import random"
   ]
  },
  {
   "cell_type": "code",
   "execution_count": 13,
   "id": "65c7e4e8-794b-412c-b460-c5e4760197f7",
   "metadata": {},
   "outputs": [],
   "source": [
    "num1=random.randint(1,10)\n",
    "num2=random.randint(1,10)"
   ]
  },
  {
   "cell_type": "code",
   "execution_count": 17,
   "id": "f4672a7f-3d10-41a3-bf66-45476709fafd",
   "metadata": {},
   "outputs": [
    {
     "name": "stdout",
     "output_type": "stream",
     "text": [
      "what is product of 8 and 9\n"
     ]
    },
    {
     "name": "stdin",
     "output_type": "stream",
     "text": [
      "enter the product of 8 and 9 75\n"
     ]
    },
    {
     "name": "stdout",
     "output_type": "stream",
     "text": [
      " wrong Answer,The correct Answer is 72\n"
     ]
    }
   ],
   "source": [
    "print(f\"what is product of {num1} and {num2}\")\n",
    "user_input=int(input(f\"enter the product of {num1} and {num2}\"))\n",
    "correct_answer=num1*num2        \n",
    "if user_input==correct_answer:\n",
    "    print(\"correct Answer!!\")\n",
    "else:\n",
    "    print(f\" wrong Answer,The correct Answer is {correct_answer}\")"
   ]
  },
  {
   "cell_type": "code",
   "execution_count": null,
   "id": "e1f18841-6372-49bc-864a-e156b4d6aef9",
   "metadata": {},
   "outputs": [],
   "source": []
  },
  {
   "cell_type": "markdown",
   "id": "3eda1953-f0d3-46e6-9e73-02e3eb92dace",
   "metadata": {},
   "source": [
    "## Exercise 3: Squares of Even/Odd Numbers"
   ]
  },
  {
   "cell_type": "markdown",
   "id": "195c0659-6dcc-4f5b-98f5-d4d4ec77edcb",
   "metadata": {},
   "source": [
    "Create a Python script that prints the squares of all even or odd numbers within the range of 100 to 200. Choose either even or odd numbers and document your choice in the code."
   ]
  },
  {
   "cell_type": "code",
   "execution_count": 22,
   "id": "03ae6346-79d3-407e-8087-a604c52020a8",
   "metadata": {},
   "outputs": [
    {
     "name": "stdout",
     "output_type": "stream",
     "text": [
      "the square of 100 is 10000 and 100 is even number \n",
      "the square of 102 is 10404 and 102 is even number \n",
      "the square of 104 is 10816 and 104 is even number \n",
      "the square of 106 is 11236 and 106 is even number \n",
      "the square of 108 is 11664 and 108 is even number \n",
      "the square of 110 is 12100 and 110 is even number \n",
      "the square of 112 is 12544 and 112 is even number \n",
      "the square of 114 is 12996 and 114 is even number \n",
      "the square of 116 is 13456 and 116 is even number \n",
      "the square of 118 is 13924 and 118 is even number \n",
      "the square of 120 is 14400 and 120 is even number \n",
      "the square of 122 is 14884 and 122 is even number \n",
      "the square of 124 is 15376 and 124 is even number \n",
      "the square of 126 is 15876 and 126 is even number \n",
      "the square of 128 is 16384 and 128 is even number \n",
      "the square of 130 is 16900 and 130 is even number \n",
      "the square of 132 is 17424 and 132 is even number \n",
      "the square of 134 is 17956 and 134 is even number \n",
      "the square of 136 is 18496 and 136 is even number \n",
      "the square of 138 is 19044 and 138 is even number \n",
      "the square of 140 is 19600 and 140 is even number \n",
      "the square of 142 is 20164 and 142 is even number \n",
      "the square of 144 is 20736 and 144 is even number \n",
      "the square of 146 is 21316 and 146 is even number \n",
      "the square of 148 is 21904 and 148 is even number \n",
      "the square of 150 is 22500 and 150 is even number \n",
      "the square of 152 is 23104 and 152 is even number \n",
      "the square of 154 is 23716 and 154 is even number \n",
      "the square of 156 is 24336 and 156 is even number \n",
      "the square of 158 is 24964 and 158 is even number \n",
      "the square of 160 is 25600 and 160 is even number \n",
      "the square of 162 is 26244 and 162 is even number \n",
      "the square of 164 is 26896 and 164 is even number \n",
      "the square of 166 is 27556 and 166 is even number \n",
      "the square of 168 is 28224 and 168 is even number \n",
      "the square of 170 is 28900 and 170 is even number \n",
      "the square of 172 is 29584 and 172 is even number \n",
      "the square of 174 is 30276 and 174 is even number \n",
      "the square of 176 is 30976 and 176 is even number \n",
      "the square of 178 is 31684 and 178 is even number \n",
      "the square of 180 is 32400 and 180 is even number \n",
      "the square of 182 is 33124 and 182 is even number \n",
      "the square of 184 is 33856 and 184 is even number \n",
      "the square of 186 is 34596 and 186 is even number \n",
      "the square of 188 is 35344 and 188 is even number \n",
      "the square of 190 is 36100 and 190 is even number \n",
      "the square of 192 is 36864 and 192 is even number \n",
      "the square of 194 is 37636 and 194 is even number \n",
      "the square of 196 is 38416 and 196 is even number \n",
      "the square of 198 is 39204 and 198 is even number \n"
     ]
    }
   ],
   "source": [
    "for i in range(100,200):\n",
    "    if i%2==0:\n",
    "        print(f\"the square of {i} is {i**2} and {i} is even number \")\n",
    "    \n",
    "        "
   ]
  },
  {
   "cell_type": "markdown",
   "id": "c77dc72c-d83b-4a87-a15b-dbf52a29112a",
   "metadata": {},
   "source": [
    "## Exercise 4: Word counter"
   ]
  },
  {
   "cell_type": "code",
   "execution_count": 25,
   "id": "68e8941c-e91e-44e1-9429-949af686117d",
   "metadata": {},
   "outputs": [],
   "source": [
    "def count_words(text):\n",
    "    words = text.lower().split()\n",
    "    word_count = {}\n",
    "    \n",
    "    for word in words:\n",
    "        word = word.strip('.,!?;:\"\\'')\n",
    "        if word in word_count:\n",
    "            word_count[word] += 1\n",
    "        else:\n",
    "            word_count[word] = 1\n",
    "\n",
    "    return word_count"
   ]
  },
  {
   "cell_type": "code",
   "execution_count": 31,
   "id": "dba37658-0bfe-433e-9109-65858ff169ba",
   "metadata": {},
   "outputs": [
    {
     "name": "stdout",
     "output_type": "stream",
     "text": [
      "'this': 2\n",
      "'is': 1\n",
      "'a': 1\n",
      "'sample': 1\n",
      "'text': 2\n",
      "'will': 1\n",
      "'be': 1\n",
      "'used': 1\n",
      "'to': 1\n",
      "'demonstrate': 1\n",
      "'the': 1\n",
      "'word': 1\n",
      "'counter': 1\n"
     ]
    }
   ],
   "source": [
    "input_text=\"This is a sample text. This text will be used to demonstrate the word counter.\"\n",
    "word_counts = count_words(input_text)\n",
    "for word, count in word_counts.items():\n",
    "    print(f\"'{word}': {count}\")\n"
   ]
  },
  {
   "cell_type": "markdown",
   "id": "94b19985-8463-4160-a491-0692eff653ef",
   "metadata": {},
   "source": [
    "## Exercise 5: Check for Palindrome"
   ]
  },
  {
   "cell_type": "code",
   "execution_count": 50,
   "id": "f15520c2-2f51-4fcc-b8ec-54d12d694216",
   "metadata": {},
   "outputs": [
    {
     "name": "stdin",
     "output_type": "stream",
     "text": [
      "enter the palindrome   Madam\n"
     ]
    },
    {
     "name": "stdout",
     "output_type": "stream",
     "text": [
      "True\n"
     ]
    }
   ],
   "source": [
    "import string\n",
    "\n",
    "input_text =input('enter the palindrome  ')\n",
    "def is_palindrome(input_string):\n",
    "    cleaned_string = ''.join(char.lower() for char in input_string if char.isalnum())\n",
    "    return cleaned_string == cleaned_string[::-1]\n",
    "\n",
    "\n",
    "print(is_palindrome(input_text)) \n"
   ]
  },
  {
   "cell_type": "code",
   "execution_count": null,
   "id": "df500eb5-ff25-4e9f-a6f7-61e1445a9f28",
   "metadata": {},
   "outputs": [],
   "source": []
  }
 ],
 "metadata": {
  "kernelspec": {
   "display_name": "Python 3 (ipykernel)",
   "language": "python",
   "name": "python3"
  },
  "language_info": {
   "codemirror_mode": {
    "name": "ipython",
    "version": 3
   },
   "file_extension": ".py",
   "mimetype": "text/x-python",
   "name": "python",
   "nbconvert_exporter": "python",
   "pygments_lexer": "ipython3",
   "version": "3.12.4"
  }
 },
 "nbformat": 4,
 "nbformat_minor": 5
}
